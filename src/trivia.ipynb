{
 "cells": [
  {
   "cell_type": "code",
   "execution_count": 1,
   "metadata": {},
   "outputs": [],
   "source": [
    "%reset -f"
   ]
  },
  {
   "cell_type": "code",
   "execution_count": 2,
   "metadata": {},
   "outputs": [],
   "source": [
    "from trivia import TriviaGame\n",
    "game = TriviaGame()"
   ]
  },
  {
   "cell_type": "code",
   "execution_count": 3,
   "metadata": {},
   "outputs": [
    {
     "name": "stdout",
     "output_type": "stream",
     "text": [
      "Enter your trivia questions. Type 'exit' to stop.\n",
      "Question added successfully!\n",
      "Stopping question input.\n"
     ]
    }
   ],
   "source": [
    "print(\"Enter your trivia questions. Type 'exit' to stop.\")\n",
    "\n",
    "while True:\n",
    "    q = input(\"Enter a question (or 'exit' to stop): \").strip()\n",
    "    if q.lower() == 'exit':\n",
    "        print(\"Stopping question input.\")\n",
    "        break\n",
    "    a = input(\"Enter the answer: \").strip()\n",
    "    if a.lower() == 'exit':\n",
    "        print(\"Stopping question input.\")\n",
    "        break\n",
    "    game.add_question(q, a)"
   ]
  },
  {
   "cell_type": "code",
   "execution_count": 7,
   "metadata": {},
   "outputs": [
    {
     "name": "stdout",
     "output_type": "stream",
     "text": [
      "No questions found in data\\learning.json. Please add some first!\n"
     ]
    }
   ],
   "source": [
    "game.run_quiz(source=r'data\\learning')"
   ]
  },
  {
   "cell_type": "code",
   "execution_count": null,
   "metadata": {},
   "outputs": [],
   "source": []
  }
 ],
 "metadata": {
  "kernelspec": {
   "display_name": ".venv",
   "language": "python",
   "name": "python3"
  },
  "language_info": {
   "codemirror_mode": {
    "name": "ipython",
    "version": 3
   },
   "file_extension": ".py",
   "mimetype": "text/x-python",
   "name": "python",
   "nbconvert_exporter": "python",
   "pygments_lexer": "ipython3",
   "version": "3.13.4"
  }
 },
 "nbformat": 4,
 "nbformat_minor": 2
}
