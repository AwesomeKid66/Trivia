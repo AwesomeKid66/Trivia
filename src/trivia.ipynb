{
 "cells": [
  {
   "cell_type": "code",
   "execution_count": 1,
   "metadata": {},
   "outputs": [],
   "source": [
    "%reset -f\n",
    "%load_ext autoreload\n",
    "%autoreload 2"
   ]
  },
  {
   "cell_type": "code",
   "execution_count": null,
   "metadata": {},
   "outputs": [],
   "source": [
    "from trivia import TriviaGame"
   ]
  },
  {
   "cell_type": "code",
   "execution_count": 13,
   "metadata": {},
   "outputs": [],
   "source": [
    "marvel = TriviaGame(f'marvel')\n",
    "star_wars = TriviaGame(f'star_wars')"
   ]
  },
  {
   "cell_type": "code",
   "execution_count": 14,
   "metadata": {},
   "outputs": [
    {
     "name": "stdout",
     "output_type": "stream",
     "text": [
      "Enter your trivia questions. Type 'exit' to stop.\n",
      "Question added successfully!\n",
      "Question added successfully!\n",
      "Question added successfully!\n",
      "Question added successfully!\n",
      "Question added successfully!\n",
      "Question added successfully!\n",
      "Question added successfully!\n",
      "Question added successfully!\n",
      "Question added successfully!\n",
      "Stopping question input.\n"
     ]
    }
   ],
   "source": [
    "star_wars.add_questions_interactively()"
   ]
  },
  {
   "cell_type": "code",
   "execution_count": 11,
   "metadata": {},
   "outputs": [
    {
     "name": "stdout",
     "output_type": "stream",
     "text": [
      "\n",
      "Quiz complete! You scored 1 out of 107.\n"
     ]
    }
   ],
   "source": [
    "game.run_quiz()"
   ]
  },
  {
   "cell_type": "code",
   "execution_count": null,
   "metadata": {},
   "outputs": [],
   "source": []
  }
 ],
 "metadata": {
  "kernelspec": {
   "display_name": ".venv",
   "language": "python",
   "name": "python3"
  },
  "language_info": {
   "codemirror_mode": {
    "name": "ipython",
    "version": 3
   },
   "file_extension": ".py",
   "mimetype": "text/x-python",
   "name": "python",
   "nbconvert_exporter": "python",
   "pygments_lexer": "ipython3",
   "version": "3.13.4"
  }
 },
 "nbformat": 4,
 "nbformat_minor": 2
}
